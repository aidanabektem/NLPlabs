{
 "cells": [
  {
   "cell_type": "markdown",
   "metadata": {
    "ExecuteTime": {
     "end_time": "2020-02-12T17:56:22.948195Z",
     "start_time": "2020-02-12T17:56:22.944176Z"
    }
   },
   "source": [
    "### Lab 2: Hyponyms and Hypernyms"
   ]
  },
  {
   "cell_type": "code",
   "execution_count": 2,
   "metadata": {
    "ExecuteTime": {
     "end_time": "2020-02-12T14:12:16.470920Z",
     "start_time": "2020-02-12T14:12:15.640262Z"
    }
   },
   "outputs": [
    {
     "name": "stdout",
     "output_type": "stream",
     "text": [
      "12\n"
     ]
    }
   ],
   "source": [
    "import pandas as pd\n",
    "import wikipedia\n",
    "import os\n",
    "from tqdm import tqdm\n",
    "from joblib import Parallel, delayed\n",
    "import multiprocessing\n",
    "import networkx as nx\n",
    "import matplotlib.pyplot as plt\n",
    "from collections import defaultdict\n",
    "from ipywidgets import interact, interactive, fixed, interact_manual,widgets\n",
    "from IPython.display import display\n",
    "import json\n",
    "num_cores = multiprocessing.cpu_count()\n",
    "print(num_cores)\n",
    "wikipedia.set_lang(\"ru\")\n",
    "# DATA_PATH_LIST = ['D:','src2','taxonomy-enrichment','data','training_data']\n",
    "DATA_PATH_LIST = ['.']\n",
    "EMBEDDING_MODEL_FILENAME = \"wiki_node2vec.bin\"\n",
    "DATA_PATH=\"/\".join(DATA_PATH_LIST+[\"training_nouns.tsv\"])\n",
    "df = pd.read_csv(DATA_PATH,sep='\\t')\n",
    "%matplotlib inline"
   ]
  },
  {
   "cell_type": "code",
   "execution_count": 3,
   "metadata": {
    "ExecuteTime": {
     "end_time": "2020-02-12T14:12:16.475780Z",
     "start_time": "2020-02-12T14:12:16.473114Z"
    }
   },
   "outputs": [],
   "source": [
    "def prestr(x):\n",
    "    return str(x).replace('\\\"','').replace(\"'\",'\"')"
   ]
  },
  {
   "cell_type": "code",
   "execution_count": 4,
   "metadata": {
    "ExecuteTime": {
     "end_time": "2020-02-12T14:12:16.685506Z",
     "start_time": "2020-02-12T14:12:16.477634Z"
    }
   },
   "outputs": [],
   "source": [
    "class DefDict(defaultdict):\n",
    "    def __missing__(self, key):\n",
    "        self[key] = key\n",
    "        return key\n",
    "    \n",
    "idx2syns = DefDict(lambda x:x)\n",
    "for val in df.values:\n",
    "    idx2syns[val[0]]=val[1]\n",
    "    try:\n",
    "        pidxs = json.loads(prestr(val[2]))\n",
    "        concp = [el.split(\",\")[0] for el in json.loads(prestr(val[3]))]\n",
    "        idx2syns.update(dict(zip(pidxs,concp)))\n",
    "    except:\n",
    "        print(prestr(val[2]))\n",
    "        print(prestr(val[3]))"
   ]
  },
  {
   "cell_type": "markdown",
   "metadata": {
    "ExecuteTime": {
     "end_time": "2020-02-12T17:12:34.060220Z",
     "start_time": "2020-02-12T17:12:34.055235Z"
    }
   },
   "source": [
    "### Interactive visualization of hyponyms and hypernyms"
   ]
  },
  {
   "cell_type": "code",
   "execution_count": 5,
   "metadata": {
    "ExecuteTime": {
     "end_time": "2020-02-12T17:11:37.966489Z",
     "start_time": "2020-02-12T17:11:37.931688Z"
    }
   },
   "outputs": [
    {
     "data": {
      "application/vnd.jupyter.widget-view+json": {
       "model_id": "f9f8d48648124c67b4dec62091a70cf9",
       "version_major": 2,
       "version_minor": 0
      },
      "text/plain": [
       "Button(description='Draw', style=ButtonStyle())"
      ]
     },
     "metadata": {},
     "output_type": "display_data"
    },
    {
     "data": {
      "application/vnd.jupyter.widget-view+json": {
       "model_id": "269facb95ae8400dbf4f11ef169ae3db",
       "version_major": 2,
       "version_minor": 0
      },
      "text/plain": [
       "Text(value='МАТЬ', description='String:', placeholder='Query')"
      ]
     },
     "metadata": {},
     "output_type": "display_data"
    }
   ],
   "source": [
    "button = widgets.Button(description=\"Draw\")\n",
    "query = widgets.Text(\n",
    "    value='МАТЬ',\n",
    "    placeholder='Query',\n",
    "    description='String:',\n",
    "    disabled=False\n",
    ")\n",
    "display(button,query)\n",
    "\n",
    "\n",
    "\n",
    "\n",
    "def creategraph(df):\n",
    "    res = []\n",
    "    for row in df.values:\n",
    "        cohyps = row[1].split(\",\")\n",
    "        for idx,cohyp in enumerate(cohyps):\n",
    "            for parent in json.loads(prestr(row[2])):\n",
    "                res.append((row[0]+'-'+str(idx),parent))\n",
    "    return res\n",
    "\n",
    "def graphdraw(b):\n",
    "    print(\"graphdraw\",query.value)\n",
    "    subset = df[df['TEXT'].str.contains(query.value.upper())]\n",
    "    g = nx.DiGraph()\n",
    "    for el in subset.values:\n",
    "        cohyps = el[1].split(\",\")\n",
    "        print(cohyps)\n",
    "        syns = idx2syns[el[0]]\n",
    "        for child in cohyps:\n",
    "            for parent in json.loads(prestr(el[2])):\n",
    "                ed = g.add_edge(child,idx2syns[parent],label=\"is a\")\n",
    "            \n",
    "    plt.figure(figsize=(15,15))\n",
    "    pos = nx.nx_agraph.graphviz_layout(g)\n",
    "    nx.draw(g,with_labels=True,pos=pos)\n",
    "#     edge_labels=nx.draw_networkx_edge_labels(g,pos=pos)\n",
    "    plt.show()\n",
    "button.on_click(graphdraw)"
   ]
  },
  {
   "cell_type": "markdown",
   "metadata": {
    "ExecuteTime": {
     "end_time": "2020-02-12T11:38:20.619158Z",
     "start_time": "2020-02-12T11:38:20.614734Z"
    }
   },
   "source": [
    "### Pattern extractor\n",
    "\n",
    "Yargy — библиотека для извлечения структурированной информации из текстов на русском языке. Правила описываются контекстно-свободными грамматиками и словарями ключевых слов. Банк готовых правил для имён, дат, адресов и других сущностей доступен в репозитории Natasha.\n",
    "* https://yargy.readthedocs.io/ru/latest/\n",
    "* http://pymorphy2.readthedocs.io/en/latest/user/grammemes.html\n",
    "* https://github.com/natasha/natasha"
   ]
  },
  {
   "cell_type": "markdown",
   "metadata": {
    "ExecuteTime": {
     "start_time": "2020-02-12T13:09:50.486Z"
    }
   },
   "source": [
    "### Токенизатор"
   ]
  },
  {
   "cell_type": "code",
   "execution_count": 6,
   "metadata": {
    "ExecuteTime": {
     "end_time": "2020-02-12T14:12:16.819980Z",
     "start_time": "2020-02-12T14:12:16.708109Z"
    }
   },
   "outputs": [
    {
     "name": "stdout",
     "output_type": "stream",
     "text": [
      "['Ростов', '-', 'на', '-', 'Дону']\n",
      "['Длительностью', '18', 'ч', '.', '10', 'мин', '.']\n",
      "['Яндекс', '.', 'Такси']\n",
      "['π', '≈', '3', '.', '1415']\n",
      "['1', '500', '000', '$']\n",
      "['http', ':', '/', '/', 'vk', '.', 'com']\n"
     ]
    }
   ],
   "source": [
    "from yargy.tokenizer import MorphTokenizer\n",
    "\n",
    "\n",
    "tokenizer = MorphTokenizer()\n",
    "text = '''Ростов-на-Дону\n",
    "Длительностью 18ч. 10мин.\n",
    "Яндекс.Такси\n",
    "π ≈ 3.1415\n",
    "1 500 000$\n",
    "http://vk.com\n",
    "'''\n",
    "for line in text.splitlines():\n",
    "    print([_.value for _ in tokenizer(line)])"
   ]
  },
  {
   "cell_type": "markdown",
   "metadata": {
    "ExecuteTime": {
     "end_time": "2020-02-12T13:11:56.582467Z",
     "start_time": "2020-02-12T13:11:56.566175Z"
    }
   },
   "source": [
    "# Газеттир\n",
    "Газеттир нужен для удобной работы с последовательностью слов. Например, можно написать:"
   ]
  },
  {
   "cell_type": "code",
   "execution_count": 7,
   "metadata": {
    "ExecuteTime": {
     "end_time": "2020-02-12T14:12:16.844412Z",
     "start_time": "2020-02-12T14:12:16.821582Z"
    }
   },
   "outputs": [],
   "source": [
    "from yargy import or_, rule\n",
    "from yargy.predicates import normalized\n",
    "\n",
    "RULE = or_(\n",
    "    rule(normalized('dvd'), '-', normalized('диск')),\n",
    "    rule(normalized('видео'), normalized('файл'))\n",
    ")"
   ]
  },
  {
   "cell_type": "code",
   "execution_count": 8,
   "metadata": {
    "ExecuteTime": {
     "end_time": "2020-02-12T14:12:16.968622Z",
     "start_time": "2020-02-12T14:12:16.846737Z"
    }
   },
   "outputs": [
    {
     "name": "stdout",
     "output_type": "stream",
     "text": [
      "['Видео', 'файл']\n",
      "['dvd', '-', 'диске']\n"
     ]
    }
   ],
   "source": [
    "from yargy import Parser\n",
    "from yargy.pipelines import morph_pipeline\n",
    "\n",
    "\n",
    "RULE = morph_pipeline([\n",
    "    'dvd-диск',\n",
    "    'видео файл',\n",
    "    'видеофильм',\n",
    "    'газета',\n",
    "    'электронный дневник',\n",
    "    'эссе',\n",
    "])\n",
    "\n",
    "parser = Parser(RULE)\n",
    "text = 'Видео файл на dvd-диске'\n",
    "for match in parser.findall(text):\n",
    "    print([_.value for _ in match.tokens])"
   ]
  },
  {
   "cell_type": "code",
   "execution_count": 9,
   "metadata": {
    "ExecuteTime": {
     "end_time": "2020-02-12T14:12:54.576104Z",
     "start_time": "2020-02-12T14:12:54.511149Z"
    }
   },
   "outputs": [
    {
     "name": "stdout",
     "output_type": "stream",
     "text": [
      "['Чеченской', 'республике']\n",
      "['Донецкая', 'народная', 'республика']\n"
     ]
    }
   ],
   "source": [
    "from yargy import Parser, rule, and_\n",
    "from yargy.predicates import gram, is_capitalized, dictionary\n",
    "\n",
    "\n",
    "GEO = rule(\n",
    "    and_(\n",
    "        gram('ADJF'),  # так помечается прилагательное, остальные пометки описаны в\n",
    "                       # http://pymorphy2.readthedocs.io/en/latest/user/grammemes.html\n",
    "        is_capitalized()\n",
    "    ),\n",
    "    gram('ADJF').optional().repeatable(),\n",
    "    dictionary({\n",
    "        'федерация',\n",
    "        'республика'\n",
    "    })\n",
    ")\n",
    "\n",
    "\n",
    "parser = Parser(GEO)\n",
    "text = '''\n",
    "В Чеченской республике на день рождения ...\n",
    "Донецкая народная республика провозгласила ...\n",
    "Башня Федерация — одна из самых высоких ...\n",
    "'''\n",
    "for match in parser.findall(text):\n",
    "    print([_.value for _ in match.tokens])"
   ]
  },
  {
   "cell_type": "markdown",
   "metadata": {
    "ExecuteTime": {
     "end_time": "2020-02-12T13:13:57.167613Z",
     "start_time": "2020-02-12T13:13:57.159920Z"
    }
   },
   "source": [
    "### Предикаты\n",
    "\n",
    "Предикат — функция, которая принимает на вход токен и возвращает True или False. В Yargy встроено много готовых предикатов. Полный список есть в справочнике. Предикаты комбинируются с помощью and_, or_ и not_."
   ]
  },
  {
   "cell_type": "code",
   "execution_count": 10,
   "metadata": {
    "ExecuteTime": {
     "end_time": "2020-02-12T14:12:17.173350Z",
     "start_time": "2020-02-12T14:12:17.136108Z"
    }
   },
   "outputs": [
    {
     "name": "stdout",
     "output_type": "stream",
     "text": [
      "True\n",
      "True\n"
     ]
    }
   ],
   "source": [
    "from yargy import and_, not_\n",
    "from yargy.tokenizer import MorphTokenizer\n",
    "from yargy.predicates import is_capitalized, eq\n",
    "\n",
    "\n",
    "tokenizer = MorphTokenizer()\n",
    "token = next(tokenizer('Стали'))\n",
    "\n",
    "predicate = is_capitalized()\n",
    "print(predicate(token))\n",
    "\n",
    "predicate = and_(\n",
    "    is_capitalized(),\n",
    "    not_(eq('марки'))\n",
    ")\n",
    "print(predicate(token))"
   ]
  },
  {
   "cell_type": "markdown",
   "metadata": {
    "ExecuteTime": {
     "end_time": "2020-02-12T13:15:56.600763Z",
     "start_time": "2020-02-12T13:15:56.596609Z"
    }
   },
   "source": [
    "### Грамматики\n",
    "В Yargy используется специальный DSL для описания грамматик. Любую контекстно-свободную грамматику можно описать с помощью конструкций Питона. Например, есть примитивная грамматика для размеров одежды:\n",
    "\n",
    "KEY -> р. | размер\n",
    "\n",
    "VALUE -> S | M | L\n",
    "\n",
    "SIZE -> KEY VALUE\n",
    "\n"
   ]
  },
  {
   "cell_type": "code",
   "execution_count": 11,
   "metadata": {
    "ExecuteTime": {
     "end_time": "2020-02-12T14:14:21.602988Z",
     "start_time": "2020-02-12T14:14:21.589310Z"
    }
   },
   "outputs": [
    {
     "data": {
      "text/plain": [
       "SIZE -> KEY VALUE\n",
       "KEY -> 'р' '.' | 'размер'\n",
       "VALUE -> 'S' | 'M' | 'L' | 'XS'\n"
      ]
     },
     "execution_count": 11,
     "metadata": {},
     "output_type": "execute_result"
    }
   ],
   "source": [
    "from yargy import rule, or_\n",
    "\n",
    "\n",
    "KEY = or_(\n",
    "    rule('р', '.'),\n",
    "    rule('размер')\n",
    ").named('KEY')\n",
    "VALUE = or_(\n",
    "    rule('S'),\n",
    "    rule('M'),\n",
    "    rule('L'),\n",
    "    rule('XS'),\n",
    ").named('VALUE')\n",
    "SIZE = rule(\n",
    "    KEY,\n",
    "    VALUE\n",
    ").named('SIZE')\n",
    "SIZE.normalized.as_bnf"
   ]
  },
  {
   "cell_type": "code",
   "execution_count": 12,
   "metadata": {
    "ExecuteTime": {
     "end_time": "2020-02-12T14:14:27.723857Z",
     "start_time": "2020-02-12T14:14:27.662113Z"
    }
   },
   "outputs": [
    {
     "name": "stdout",
     "output_type": "stream",
     "text": [
      "['размер', 'M']\n",
      "['размер', 'XS']\n"
     ]
    }
   ],
   "source": [
    "parser = Parser(\n",
    "    SIZE\n",
    ")\n",
    "text = 'размер M; размер A; размер XS;'\n",
    "for match in parser.findall(text):\n",
    "    print([_.value for _ in match.tokens])"
   ]
  },
  {
   "cell_type": "code",
   "execution_count": 13,
   "metadata": {
    "ExecuteTime": {
     "end_time": "2020-02-12T14:12:19.308726Z",
     "start_time": "2020-02-12T14:12:17.354354Z"
    }
   },
   "outputs": [],
   "source": [
    "from yargy import Parser, rule, and_, or_, not_\n",
    "from yargy.interpretation import fact, attribute\n",
    "from yargy.predicates import gram, is_capitalized, dictionary, eq\n",
    "import re\n",
    "import pandas as pd\n",
    "from tqdm import tqdm_notebook\n",
    "from gensim import utils"
   ]
  },
  {
   "cell_type": "code",
   "execution_count": 14,
   "metadata": {
    "ExecuteTime": {
     "end_time": "2020-02-12T14:12:19.323139Z",
     "start_time": "2020-02-12T14:12:19.310769Z"
    }
   },
   "outputs": [],
   "source": [
    "\n",
    "START = rule(\n",
    "    or_(\n",
    "        rule(gram('ADJF')),\n",
    "        rule(gram('NOUN'))\n",
    "    ).optional(),\n",
    "    gram('NOUN')\n",
    ")\n",
    "\n",
    "START_S = or_(\n",
    "    eq('такой'),\n",
    "    eq('такие'),\n",
    ")\n",
    "\n",
    "KAK = eq('как')\n",
    "INCLUDING = or_(\n",
    "    or_(\n",
    "        eq('в'),\n",
    "        eq('том'),\n",
    "        eq('числе'),\n",
    "    ),\n",
    "    eq('включающий'),\n",
    "    or_(\n",
    "        eq('включающий'),\n",
    "        eq('в'),\n",
    "        eq('себя'),\n",
    "    ),\n",
    "    or_(\n",
    "        eq('включающие'),\n",
    "        eq('в'),\n",
    "        eq('себя'),\n",
    "    ),\n",
    "    eq('включающие'),\n",
    "    eq('особенно'),\n",
    "\n",
    ")\n",
    "\n",
    "MID_S = or_(\n",
    "    rule(\n",
    "        or_(\n",
    "            eq('такой'),\n",
    "            eq('такие'),\n",
    "        ),\n",
    "        eq('как')\n",
    "    )\n",
    ")\n",
    "ATAKJE = rule(\n",
    "    eq(','),\n",
    "    eq('а'),\n",
    "    eq('также')\n",
    ")\n",
    "\n",
    "MID = or_(\n",
    "    rule(\n",
    "        eq('это')\n",
    "    ),\n",
    "    rule(\n",
    "        eq('—')\n",
    "    ),\n",
    "    rule(\n",
    "        eq('—'),\n",
    "        eq('это')\n",
    "    ),\n",
    "    rule(\n",
    "        eq('—'),\n",
    "        not_(eq('км'))\n",
    "    ),\n",
    "    rule(\n",
    "        or_(\n",
    "            eq('и'),\n",
    "            eq('или'),\n",
    "        ),\n",
    "        eq('другие')\n",
    "    )\n",
    ")\n",
    "\n",
    "END = or_(\n",
    "    rule(\n",
    "        gram('NOUN'),\n",
    "        gram('NOUN')\n",
    "    ),\n",
    "    rule(\n",
    "        gram('ADJF').repeatable(),\n",
    "        gram('NOUN')\n",
    "    ),\n",
    "    rule(\n",
    "        gram('ADJF'),\n",
    "        gram('ADJF').repeatable(),\n",
    "        gram('NOUN')\n",
    "    ),\n",
    "    rule(\n",
    "        gram('NOUN').repeatable(),\n",
    "        gram('ADJF'),\n",
    "        gram('NOUN').repeatable()\n",
    "    ),\n",
    "    rule(\n",
    "        gram('NOUN').repeatable()\n",
    "    )\n",
    ")\n",
    "\n",
    "Item = fact(\n",
    "    'Item',\n",
    "    [attribute('titles').repeatable()]\n",
    ")\n",
    "\n",
    "\n",
    "IGNORE = rule(\n",
    "    '(',\n",
    "    not_(eq(')')).repeatable(),\n",
    "    ')'\n",
    ")\n",
    "\n",
    "ITEM = rule(\n",
    "    IGNORE.interpretation(\n",
    "        Item.titles\n",
    "    ),\n",
    "    eq(',').optional() \n",
    ").repeatable().interpretation(\n",
    "    Item\n",
    ")"
   ]
  },
  {
   "cell_type": "code",
   "execution_count": 15,
   "metadata": {
    "ExecuteTime": {
     "end_time": "2020-02-12T14:12:19.434702Z",
     "start_time": "2020-02-12T14:12:19.324707Z"
    }
   },
   "outputs": [],
   "source": [
    "def get_hyperonyms(main_word):\n",
    "    HYPONYM = eq(utils.deaccent(main_word))\n",
    "    RULE = or_(\n",
    "        rule(HYPONYM, ATAKJE, START, MID, END),\n",
    "        rule(HYPONYM, MID, END),\n",
    "        rule(START_S, END, KAK, HYPONYM),\n",
    "        rule(END, INCLUDING, HYPONYM)\n",
    "    )\n",
    "    parser = Parser(RULE) \n",
    "    text = utils.deaccent(wikipedia.summary(main_word))\n",
    "    print(text)\n",
    "    text = re.sub(r'\\(.+?\\)', '', text)\n",
    "    text = text.lower().replace('* сергии радонежскии* ', '')\n",
    "    for idx, match in enumerate(parser.findall(text.lower())):\n",
    "        k = [_.value for _ in match.tokens]\n",
    "        print(k)"
   ]
  },
  {
   "cell_type": "code",
   "execution_count": 16,
   "metadata": {
    "ExecuteTime": {
     "end_time": "2020-02-12T14:12:22.648500Z",
     "start_time": "2020-02-12T14:12:19.437840Z"
    }
   },
   "outputs": [
    {
     "name": "stdout",
     "output_type": "stream",
     "text": [
      "Банан — название съедобных плодов культивируемых растении рода Банан (Musa); обычно под таковыми понимают Musa acuminata и Musa × paradisiaca, а также Musa balbisiana, Musa fehi, Musa troglodytarum и ряд других. Также бананами могут называть плоды Ensete ventricosum (строго говоря, являющегося представителем другого рода семеиства Банановые). С ботаническои точки зрения банан является ягодои, многосеменнои и толстокожеи. У культурных форм часто отсутствуют семена, ненужные при вегетативном размножении. Плоды имеют длину 6—30 см и диаметр 2—5 см. Соплодия могут состоять из 300 плодов и иметь массу до 50—60 кг.\n",
      "Бананы — одна из древнеиших пищевых культур, а для тропических стран важнеишее пищевое растение и главная статья экспорта. Спелые бананы широко употребляются в пищу по всему миру, их используют при приготовлении большого количества блюд. Помимо употребления в свежем виде, в кухне некоторых народов бананы могут зажариваться, или вариться как в очищенном, так и в неочищенном виде. Их также сушат, консервируют, используют для приготовления банановои муки, мармелада, сиропов, вин. Бананы применяются также в качестве корма для скота. Запах бананов определяют изовалерианово-изоамиловыи и уксусно-изоамиловыи эфиры. Выращиваются в тропических и субтропических раионах с жарким влажным климатом. Существует большое число сортов съедобных видов банана.\n",
      "Размер, цвет и форма могут значительно различаться в зависимости от вида или сорта, но чаще всего они имеют продолговатую цилиндрическую или трехгранную форму, выпрямленную либо закругленную. Длина плода варьирует в пределах от 3 до 40 см, толщина — от 2 до 8 см. Цвет кожицы может быть желтым, зеленым, красным или даже серебристым. Мякоть белая, кремовая, желтая или оранжевая. В незрелом состоянии она твердая и клеикая, но по мере созревания становится мягкои и сочнои.\n",
      "Во многих странах бананы являются одним из основных источников питания — например, только в Эквадоре годовое потребление этого продукта составляет 73,8 кг на душу населения (для сравнения, в России этот показатель равен 7,29 кг). Существенную долю потребления бананы также составляют в Бурунди (189,4 кг), Самоа (85,0 кг), Коморских Островах (77,8 кг) и на Филиппинах (40,6 кг).\n",
      "['банан', '—', 'название', 'съедобных', 'плодов']\n"
     ]
    }
   ],
   "source": [
    "get_hyperonyms(\"банан\")"
   ]
  },
  {
   "cell_type": "markdown",
   "metadata": {},
   "source": [
    "#### Task 1 (deadline 19.02.2020 24:00)\n",
    "* Find your name on the spreadsheet https://docs.google.com/spreadsheets/d/1RR2I6toCkebbGU1UK83HS70Ru_l0_o-nnZIHyiFB0No/edit?usp=sharing. In opposite of your name there are 24 words of hyponyms, you have to insert five corresponding hypernyms next to them. Examples of hyponyms and hyperonyms relationship you can find above in the current Jupiter notebook.\n",
    "* Find for each pair of hyponyms and hypernyms a corresponding snippet of a text with their mentions. The source of the text can be any free resources, e.g., Wikipedia, Google, Yandex, others. You should save the snippets and their URLs within the lab2 folder in your NLP git-repo with .csv file-extension in a single file.\n",
    "\n",
    "#### Task 2 (deadline 26.02.2020 24:00)\n",
    "* It would be best if you created a pandas DataFrame of the texts from the previous task. And apply to the DataFrame the function 'get_hyperonyms,' which must return the list of the corresponding hypernyms from the text automatically. If there are errors or misses, you should fix them in the code for your case of the 24 words. Nevertheless, it is strictly prohibited to use hard coding. Save your notebook with parser code within the lab2 folder in your NLP git-repo."
   ]
  },
  {
   "cell_type": "code",
   "execution_count": null,
   "metadata": {},
   "outputs": [],
   "source": []
  },
  {
   "cell_type": "code",
   "execution_count": 23,
   "metadata": {},
   "outputs": [
    {
     "data": {
      "text/html": [
       "<div>\n",
       "<style scoped>\n",
       "    .dataframe tbody tr th:only-of-type {\n",
       "        vertical-align: middle;\n",
       "    }\n",
       "\n",
       "    .dataframe tbody tr th {\n",
       "        vertical-align: top;\n",
       "    }\n",
       "\n",
       "    .dataframe thead th {\n",
       "        text-align: right;\n",
       "    }\n",
       "</style>\n",
       "<table border=\"1\" class=\"dataframe\">\n",
       "  <thead>\n",
       "    <tr style=\"text-align: right;\">\n",
       "      <th></th>\n",
       "      <th>1</th>\n",
       "    </tr>\n",
       "  </thead>\n",
       "  <tbody>\n",
       "    <tr>\n",
       "      <th>0</th>\n",
       "      <td>УНИСЕКС</td>\n",
       "    </tr>\n",
       "    <tr>\n",
       "      <th>1</th>\n",
       "      <td>упокоение</td>\n",
       "    </tr>\n",
       "    <tr>\n",
       "      <th>2</th>\n",
       "      <td>УРЯДНИК</td>\n",
       "    </tr>\n",
       "    <tr>\n",
       "      <th>3</th>\n",
       "      <td>УШАН</td>\n",
       "    </tr>\n",
       "    <tr>\n",
       "      <th>4</th>\n",
       "      <td>ФАЛАФЕЛЬ</td>\n",
       "    </tr>\n",
       "  </tbody>\n",
       "</table>\n",
       "</div>"
      ],
      "text/plain": [
       "           1\n",
       "0    УНИСЕКС\n",
       "1  упокоение\n",
       "2    УРЯДНИК\n",
       "3       УШАН\n",
       "4   ФАЛАФЕЛЬ"
      ]
     },
     "execution_count": 23,
     "metadata": {},
     "output_type": "execute_result"
    }
   ],
   "source": [
    "homework_data = pd.read_excel('Hyperonyms_Aidana.xlsx', sheet_name='Лист1')\n",
    "\n",
    "homework_data.head()"
   ]
  },
  {
   "cell_type": "code",
   "execution_count": 25,
   "metadata": {},
   "outputs": [
    {
     "name": "stdout",
     "output_type": "stream",
     "text": [
      "УНИСЕКС\n",
      "\n",
      "\n",
      "Стиль «унисекс» (англ. unisex; также «юнисекс») появился в результате изменения мужскои и женскои роли в обществе. Он определяет внешнии вид человека, включая одежду (брюки, джинсы, шорты, футболки), обувь (угги, кроссовки, кеды, мокасины), прическу, макияж и парфюмерию. Главная черта всех вещеи этого стиля — это полное отсутствие признаков, указывающих на половую принадлежность их владельца.\n",
      "Следует отметить, что, из-за анатомических различии полов, плотно прилегающая одежда (трусы, перчатки, джинсы, брюки, рубашки, пиджаки), как правило, имеет разныи раскрои (соотношение частеи) для «мужского» и «женского» вариантов, несмотря на внешнее сходство. Однако верхняя (куртки, шапки), просторная (шорты, халаты, спецовки) и обтягивающая (футболки, водолазки) — та же самая одежда зачастую может быть использована как мужчинами, так и женщинами.\n",
      "Разновидности стиля «унисекс»: классическии, уличныи, протестныи, глобалистскии, милитари. Первая массовая «бесполая» одежда — джинсы.\n",
      "\n",
      "\n",
      "\n",
      "упокоение\n",
      "\n",
      "\n",
      "Нурмагамбет Кокембаев (Кеики-батыр) (каз. Нұрмағамбет Көкембаиұлы; 1871, урочище Баитума, ныне Костанаискои области — 22 апреля 1923, близ аула Рахмет, ныне Костанаискои области) — казахскии батыр, участник Среднеазиатского восстания 1916 года против властеи Россиискои империи и, после 1917 года, басмаческого движения против Советскои власти. \n",
      "Снаипер (мерген).\n",
      "\n",
      "\n",
      "\n",
      "УРЯДНИК\n",
      "\n",
      "\n",
      "Урядник — унтер-офицерскии чин в Русскои императорскои армии. \n",
      "Ранее у малороссиискои старшины общее название должностных лиц в Запорожском воиске. Под этим именем в конце XVII и начале XVIII века стали разуметь не только лиц должностных, но также когда-нибудь занимавших должности в тех или иных урядах, заслуженных в воиске, и их детеи, а также и всех вообще получавших от государственнои власти населенные имения.\n",
      "\n",
      "\n",
      "\n",
      "УШАН\n",
      "\n",
      "\n",
      "Бурыи, или обыкновенныи ушан (лат. Plecotus auritus) — один из видов рода ушанов из семеиства обыкновенных летучих мышеи (Vespertilionidae). От остальных палеарктических представителеи семеиства ушаны отличаются очень длинными ушами (по длине почти равными предплечьям). У спящих зверьков уши заложены назад и спрятаны под крылья. Зубная формула: \n",
      "  \n",
      "    \n",
      "      \n",
      "        I\n",
      "        \n",
      "          \n",
      "            2\n",
      "            3\n",
      "          \n",
      "        \n",
      "        C\n",
      "        \n",
      "          \n",
      "            1\n",
      "            1\n",
      "          \n",
      "        \n",
      "        P\n",
      "        \n",
      "          \n",
      "            1\n",
      "            2\n",
      "          \n",
      "        \n",
      "        P\n",
      "        m\n",
      "        P\n",
      "        \n",
      "          \n",
      "            1\n",
      "            1\n",
      "          \n",
      "        \n",
      "        M\n",
      "        \n",
      "          \n",
      "            3\n",
      "            3\n",
      "          \n",
      "        \n",
      "      \n",
      "    \n",
      "    {\\displaystyle I{2 \\over 3}C{1 \\over 1}P{1 \\over 2}PmP{1 \\over 1}M{3 \\over 3}}\n",
      "  . \n",
      "Распространен по всеи Палеарктике от Португалии на западе до Камчатки на востоке, от Севернои Африки, Палестины, Ирана и Центрального Китая на юге до 60—62 градуса с. ш. на севере.\n",
      "Летом днюет в различных естественных (щели под отставшеи корои, дупла деревьев, пещеры) и искусственных убежищах (чердаки и щели домов), позднеи ночью вылетает на кормежку. Нередко ловит насекомых или пауков, сидящих на листьях или ветвях, при этом умеет зависать в воздухе перед добычеи, быстро взмахивая крыльями. Зимует в естественных пещерах или искусственных подземных сооружениях. Самки приносят по одному, реже по два детеныша.\n",
      "\n",
      "\n",
      "\n",
      "ФАЛАФЕЛЬ\n",
      "\n",
      "\n",
      "Фалафель (араб. فلافل‎) — блюдо, представляющее собои жареные во фритюре шарики из измельченных бобовых (обычно нута, но не только), приправленные пряностями.\n",
      "\n",
      "\n",
      "\n",
      "ФАЛЕРИСТИКА\n",
      "\n",
      "\n",
      "Фалеристика — коллекционирование орденов, медалеи, значков, любых нагрудных знаков (в том числе почетных, юбилеиных, ведомственных, об окончании учебных заведении и т. д.), а также наука, вспомогательная историческая дисциплина, занимающаяся изучением истории этих предметов, их систем и их атрибуциеи.\n",
      "\n",
      "\n",
      "\n",
      "ФАРИНГИТ\n",
      "\n",
      "\n",
      "Фарингит (от лат. pharynx «глотка» + суффикс -itis «воспалительныи процесс») — воспаление слизистои оболочки и лимфоиднои ткани, миндалин глотки.\n",
      "\n",
      "\n",
      "\n",
      "ФАРМАКОПЕЯ\n",
      "\n",
      "\n",
      "Фармакопея (с др.-греч. φαρμακον «лекарство» + ποιη «делаю, изготовляю») — собрание нормативных документов (фармакопеиных статеи), регламентирующих требования к качеству лекарственных средств. Фармакопеиные статьи подразделяются на общие и частные. Общие фармакопеиные статьи содержат описания методов анализа лекарственных средств, данные о применяемых при этом реактивах и индикаторах. Частные фармакопеиные статьи – стандарты лекарственных средств, содержат перечни показателеи и методов контроля качества лекарственных средств и описания лекарственных средств, а также вспомогательных веществ и сырья для их производства. Общие и частные фармацевтические статьи периодически пересматриваются.\n",
      "Положения фармакопеи основаны на достижениях фармацевтическои химии и ее фармацевтического анализа, его критериев, способов и методов.\n",
      "Для обеспечения требовании фармакопеи формируется перечень соответствующих стандартных образцов.\n",
      "Государственная фармакопея (ГФ) — фармакопея, находящаяся под государственным надзором и имеющая юридическую силу. Требования ГФ обязательны к исполнению для всех субъектов обращения лекарственных средств данного государства, занимающихся производством (изготовлением), хранением и применением лекарственных средств.\n",
      "\n",
      "\n",
      "\n",
      "ФАТАЛИСТ\n",
      "\n",
      "\n"
     ]
    },
    {
     "name": "stderr",
     "output_type": "stream",
     "text": [
      "c:\\users\\arist\\pycharmprojects\\lab2\\venv\\lib\\site-packages\\wikipedia\\wikipedia.py:389: UserWarning: No parser was explicitly specified, so I'm using the best available HTML parser for this system (\"html.parser\"). This usually isn't a problem, but if you run this code on another system, or in a different virtual environment, it may use a different parser and behave differently.\n",
      "\n",
      "The code that caused this warning is on line 389 of the file c:\\users\\arist\\pycharmprojects\\lab2\\venv\\lib\\site-packages\\wikipedia\\wikipedia.py. To get rid of this warning, pass the additional argument 'features=\"html.parser\"' to the BeautifulSoup constructor.\n",
      "\n",
      "  lis = BeautifulSoup(html).find_all('li')\n"
     ]
    },
    {
     "name": "stdout",
     "output_type": "stream",
     "text": [
      "\"Фаталист\" may refer to: \n",
      "Фаталист\n",
      "Фаталист\n",
      "Фаталист (фильм, 1968)\n",
      "Фаталист (фильм, 2005)\n",
      "Жак-фаталист\n",
      "\n",
      "\n",
      "\n",
      "ФАШИЗАЦИЯ\n",
      "\n",
      "\n",
      "Предметом даннои статьи является Германское государство в период диктатуры НСДАП c 1933 по 1945 год. До 1943 года оно носило название «Германскии реих» (нем. Deutsches Reich), затем «Великогерманскии реих» (нем. Großdeutsches Reich). В русскоязычнои историографии обычно используются названия: «гитлеровская Германия», «нацистская Германия», «Третии реих» (нем. Drittes Reich) и «фашистская Германия». Государственные структуры Великогерманского реиха прекратили существование после поражения во Второи мировои воине.\n",
      "Нацистское руководство Германии в 1933—1945 годах проводило жесточаишую внутреннюю и внешнюю политику, организаторы которои были осуждены на Нюрнбергском процессе. Руководство НСДАП и некоторые силовые структуры Германии — СС (включая СД) и гестапо — были признаны преступными организациями.\n",
      "\n",
      "\n",
      "\n",
      "ФЕДЕРАЛИСТ\n",
      "\n",
      "\n",
      "«Федералист», «Записки Федералиста» — (англ. The Federalist Papers) — сборник из 85 статеи в поддержку ратификации Конституции США.\n",
      "Статьи выходили с октября 1787 года по август 1788 года в нью-иоркских газетах The Independent Journal и The New York Packet. Сборник всех статеи под заглавием «Федералист» увидел свет в 1788 году. «Федералист» считается не только ценнеишим источником толкования Конституции США (в сборнике значение положении Конституции разъясняется самими ее авторами), но и выдающимся философским и политическим произведением.\n",
      "\n",
      "\n",
      "\n",
      "ФЕЛЬДЪЕГЕРЬ\n",
      "\n",
      "\n",
      "Фельдъегерь  (нем. Feldjager, от Feld — поле и Jager — охотник, стрелок) — в некоторых армиях - член военнои полиции, в России — военныи или правительственныи курьер.\n",
      "\n",
      "\n",
      "\n",
      "\n",
      "\n",
      "ФЕН\n",
      "\n",
      "\n",
      "Фен (нем. Fohn, от лат. favonius — римского эквивалента Зефира) — сильныи, порывистыи, теплыи и сухои местныи ветер, дующии с гор в долину.\n",
      "\n",
      "\n",
      "\n",
      "ФЕНИКС\n",
      "\n",
      "\n",
      "Феникс (греч. φοινιξ, лат. phoenix) — мифологическая долгоживущая птица, возрождающаяся после гибели. В древнеегипетскои культуре, где называлась бенну, и античнои — связана с поклонением Солнцу. Представлялась по величине и виду схожеи с орлом, с ярко-красным или золотисто-красным оперением. По распространеннои версии мифа, предвидя свою смерть, феникс осуществлял воссожжение себя, после чего появлялся вновь из огня, или же возникал из пепла, праха (в тои или инои вариации миф связывался с Гелиополем). Считалось, что феникс — единственная, уникальная особь своего вида. В метафорическом истолковании феникс — символ вечного обновления, бессмертия.\n",
      "\n",
      "\n",
      "\n",
      "ФЕНЯ\n",
      "\n",
      "\n",
      "Офенскии (ранее «суздальское наречие», самоназвание — «феня»), Кантюжныи, Ламанскии, Аламанскии или Галивонскии язык — язык, сформировавшиися на Руси, в эпоху Средневековья, и первоначально использовавшиися офенями (бродячими торговцами). \n",
      "Боготаскатели — «офени, занимающиеся перепродажеи икон» создали таиныи язык, придумав новые корни и оставив традиционную русскую морфологию, и использовали этот придуманныи язык для общения «не для чужих ушеи». Впоследствии фенеи стали называть современныи уголовныи жаргон («воровскои жаргон», «блатнои жаргон» и тому подобное, разговаривать на таком языке — «по фене ботать»).\n",
      "\n",
      "\n",
      "\n",
      "ФЕРРОХРОМ\n",
      "\n",
      "\n",
      "Феррохром — сплав железа и хрома (около 60 %), применяется для легирования стали и сплавов. Основные примеси — углерод (до ~5 %), кремнии (до 8 %), сера (до 0,05 %), фосфор (до 0,05 %). Получают при восстановлении достаточно богатых (с высоким содержанием оксида хрома и высоким отношением оксид хрома/оксид железа) хромитовых руд (или концентратов) углеродистым восстановителем (обычно кокс). Большая часть феррохрома в мире производится в Южнои Африке, Казахстане (корпорация «Казхром» группы ENRC) и Индии, так как эти страны имеют большие внутренние ресурсы хромитов. Крупнеишим потребителем феррохрома является производство стали, особенно производства нержавеющеи стали с содержанием хрома от 10 до 20 %. Феррохром часто классифицируется по количеству углерода и хрома, которые в нем содержатся.\n",
      "\n",
      "\n",
      "\n",
      "ФИБРОЗ\n",
      "\n",
      "\n",
      "Фиброз (лат. fibrosis) — разрастание соединительнои ткани  с появлением рубцовых изменении в различных органах, возникающее, как правило, в результате хронического воспаления. Рассматривается как реакция организма, направленная на изоляцию очага воспаления от окружающих тканеи и системного кровотока. Фиброзное замещение тканеи приводит к постепеннои утрате их специфических функции и дисфункции пораженного органа (например, легочная недостаточность при фиброзе легких). Причинами могут быть облучение, травма, инфекционно-аллергические и другие процессы.\n",
      "Одним из механизмов образования фиброза является эпителиально-мезенхимальныи переход, при котором эпителиальные клетки приобретают фенотипические своиства мезенхимальных клеток. Мезенхимальные клетки способны активно секретировать компоненты внеклеточного матрикса — коллагены, фибронектин, что может способствовать образованию рубца.\n",
      "Имеются данные о том, что больным наркотическои зависимостью своиственен более быстрыи темп прогрессирования фиброза печени..\n",
      "Фиброз легких может быть вызван некоторыми лекарственными препаратами:\n",
      "для химиотерапии (метотрексат, циклофосфамид),\n",
      "антиаритмическими препаратами (амиодарон, пропранолол),\n",
      "антибиотиками (сульфасалазин), выраженным токсическим деиствием на легочную ткань обладает нитрофурантоин и его производные (фурамаг, фуразидин и др.) и их метаболиты. У 1 из 5000 пациентов при одном курсе, и у 1 из 750 при многокурсовои терапии возникают нежелательные реакции со стороны бронхо-легочнои системы. У примерно 1 из 20000 пациентов прием нитрофурантоина вызывает необратимые токсические повреждения легочнои ткани, индуцируя развитие фиброза легких. Симптомы фиброза появляются в период от нескольких днеи до нескольких месяцев после приема курса нитрофурантоина и медленно прогрессируют. К основнои группе риска относятся пациенты с бронхиальнои астмои (в т.ч. в анамнезе), с учетом побочного деиствия нитрофурантоина - индуцирования бронхоспазма у астматиков и обострения аллергического воспаления в легких, нитрофурантоин строго противопоказан для применения пациентам с этими заболеваниями, а также пациентам с  фиброзными изменениями в легких.\n",
      "\n",
      "\n",
      "\n",
      "ФИЗМАТ\n",
      "\n",
      "\n",
      "\"фишман\" may refer to: \n",
      "Фишман, Ада Моисеевна\n",
      "Фишман, Борис Семёнович\n",
      "Фишман, Вера Соттаровна\n",
      "Фишман, Владимир Ефимович\n",
      "Фишман, Давид Абрамович\n",
      "Фишман, Джошуа\n",
      "Фишман, Жан-Луи\n",
      "Фишман, Изяслав Борисович\n",
      "Фишман, Константин Викторович\n",
      "Фишман, Лейб Моисеевич\n",
      "Фишман, Макс Шахнович\n",
      "Фишман, Марк Вениаминович\n",
      "Фишман, Михаил Владимирович\n",
      "Фишман, Ольга\n",
      "Фишман, Ольга Лазаревна\n",
      "Фишман, Ольга Михайловна\n",
      "Фишман, Пётр Аронович\n",
      "Фишман, Уолтер\n",
      "Фишман, Элиэзер\n",
      "Фишман, Яков\n",
      "Фишман, Яков Лейбович\n",
      "Фишман, Яков Моисеевич\n",
      "\n",
      "\n",
      "\n",
      "ФИЗФАК\n",
      "\n",
      "\n",
      "\n",
      "\n",
      "\n",
      "\n",
      "ФИЛОФОНИСТ\n",
      "\n",
      "\n",
      "Валентин Лаврентьевич Янин (6 февраля 1929, Вятка — 2 февраля 2020, Москва) — советскии и россиискии историк, археолог, деиствительныи член Россиискои академии наук (1990), доктор исторических наук (1963), профессор (1964), член Комиссии по особо ценным объектам культуры при Президенте РФ, председатель музеиного совета при Россииском фонде культуры, член консультативного совета при Министерстве культуры РФ, член Государственнои комиссии по реституции культурных ценностеи, председатель специализированного совета по археологии и этнографии, член специализированного совета Института археологии РАН, научныи руководитель Новгородского филиала Института истории РАН.\n",
      "\n",
      "\n",
      "\n",
      "ФИНГАЛ\n",
      "\n",
      "\n",
      "Оскар Фингал О’Флаэрти Уиллс Уаильд (англ. Oscar Fingal O’Flahertie Wills Wilde; 16 октября 1854 года, Дублин — 30 ноября 1900 года, Париж) — англиискии писатель и поэт. Один из самых известных драматургов позднего Викторианского периода, одна из ключевых фигур эстетизма и европеиского модернизма.\n",
      "\n",
      "\n",
      "\n",
      "ФИНИФТЬ\n",
      "\n",
      "\n",
      "Финифть (др.-рус. финиптъ, химипетъ, из ср.-греч. χυμευτον, то же от χυμευω — «смешиваю») — изготовление художественных произведении с помощью стекловидного порошка, эмали, на металлическои подложке, вид прикладного искусства. Стеклянное покрытие является долговечным и не выцветает со временем, изделия из финифти отличаются особои яркостью и чистотои красок.\n",
      "Эмаль приобретает нужныи цвет после обжига с помощью добавок, для которых используются соли металлов. Например, добавки золота придают стеклу рубиновыи цвет, кобальта — синии цвет, а меди — зеленыи. При решении специфических живописных задач яркость эмали может, в отличие от стекла, приглушаться.\n",
      "\n",
      "\n",
      "\n",
      "ФИТИНГ\n",
      "\n",
      "\n",
      "Фитинг (англ. fitting от fit «прилаживать, монтировать, собирать») — соединительная часть трубопровода, устанавливаемого для разветвления, поворотов, переходов на другои диаметр, а также при необходимости частои сборки и разборки труб. Фитинги служат и для герметичного перекрытия трубопровода и прочих вспомогательных целеи.\n",
      "Фитинги, соединяющие концы труб одинакового диаметра, называются прямыми, фитинги, скрепляющие концы труб разного диаметра, — переходными.\n",
      "\n",
      "\n",
      "\n",
      "ФИТОПЛАНКТОН\n",
      "\n",
      "\n",
      "Фитопланктон (от греч. φυτoν — растение и πλανκτον — блуждающии, странствующии) — часть планктона, которая может осуществлять процесс фотосинтеза.\n",
      "К фитопланктону относятся протококковые водоросли, диатомовые водоросли, динофлагелляты, кокколитофориды, и другие одноклеточные водоросли (часто колониальные), а также цианобактерии.\n",
      "Обитает в фотическои зоне водоемов, населяя толщу воды. Фитопланктон является первичным продуцентом органического вещества в водоеме и служит пищеи для зоопланктона и зообентоса.\n",
      "Бурное размножение фитопланктона вызывает «цветение воды».\n",
      "Промышленное культивирование и биотехнологическая конверсия морского фитопланктона рассматривается как одно из наиболее перспективных направлении в области получения биотоплива. Первичное производство биомассы осуществляется путем культивирования фитопланктона в искусственных водоемах, создаваемых на морском побережье. Вторичные процессы представляют собои метановое брожение биомассы и последующее гидроксилирование метана с получением метанола.\n",
      "\n",
      "\n",
      "\n"
     ]
    }
   ],
   "source": [
    "\n",
    "for word in list(homework_data[1]):\n",
    "    print(word)\n",
    "    print('\\n')\n",
    "    try:\n",
    "        get_hyperonyms(word)\n",
    "    except Exception as e:\n",
    "        print(e)\n",
    "    print('\\n\\n')"
   ]
  },
  {
   "cell_type": "code",
   "execution_count": null,
   "metadata": {},
   "outputs": [],
   "source": []
  }
 ],
 "metadata": {
  "kernelspec": {
   "display_name": "Python 3",
   "language": "python",
   "name": "python3"
  },
  "language_info": {
   "codemirror_mode": {
    "name": "ipython",
    "version": 3
   },
   "file_extension": ".py",
   "mimetype": "text/x-python",
   "name": "python",
   "nbconvert_exporter": "python",
   "pygments_lexer": "ipython3",
   "version": "3.7.2"
  }
 },
 "nbformat": 4,
 "nbformat_minor": 2
}
